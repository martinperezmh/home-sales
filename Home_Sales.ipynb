{
  "cells": [
    {
      "cell_type": "markdown",
      "metadata": {
        "id": "view-in-github",
        "colab_type": "text"
      },
      "source": [
        "<a href=\"https://colab.research.google.com/github/lleiva25/Home_Sales/blob/main/Home_Sales_starter_code.ipynb\" target=\"_parent\"><img src=\"https://colab.research.google.com/assets/colab-badge.svg\" alt=\"Open In Colab\"/></a>"
      ]
    },
    {
      "cell_type": "code",
      "source": [
        "!pip install findspark\n",
        "!pip install pyspark"
      ],
      "metadata": {
        "colab": {
          "base_uri": "https://localhost:8080/"
        },
        "id": "Z6ZSbe6Bjxbu",
        "outputId": "3f0f6ffc-e691-42bf-9010-eefb563be2d8"
      },
      "execution_count": 3,
      "outputs": [
        {
          "output_type": "stream",
          "name": "stdout",
          "text": [
            "Collecting findspark\n",
            "  Downloading findspark-2.0.1-py2.py3-none-any.whl (4.4 kB)\n",
            "Installing collected packages: findspark\n",
            "Successfully installed findspark-2.0.1\n",
            "Collecting pyspark\n",
            "  Downloading pyspark-3.5.0.tar.gz (316.9 MB)\n",
            "\u001b[2K     \u001b[90m━━━━━━━━━━━━━━━━━━━━━━━━━━━━━━━━━━━━━━━━\u001b[0m \u001b[32m316.9/316.9 MB\u001b[0m \u001b[31m4.6 MB/s\u001b[0m eta \u001b[36m0:00:00\u001b[0m\n",
            "\u001b[?25h  Preparing metadata (setup.py) ... \u001b[?25l\u001b[?25hdone\n",
            "Requirement already satisfied: py4j==0.10.9.7 in /usr/local/lib/python3.10/dist-packages (from pyspark) (0.10.9.7)\n",
            "Building wheels for collected packages: pyspark\n",
            "  Building wheel for pyspark (setup.py) ... \u001b[?25l\u001b[?25hdone\n",
            "  Created wheel for pyspark: filename=pyspark-3.5.0-py2.py3-none-any.whl size=317425345 sha256=8c53d462d6c908d8526d37a3284eba72aeff7618cc1ae3837f333b95b6dcd82f\n",
            "  Stored in directory: /root/.cache/pip/wheels/41/4e/10/c2cf2467f71c678cfc8a6b9ac9241e5e44a01940da8fbb17fc\n",
            "Successfully built pyspark\n",
            "Installing collected packages: pyspark\n",
            "Successfully installed pyspark-3.5.0\n"
          ]
        }
      ]
    },
    {
      "cell_type": "code",
      "execution_count": 4,
      "metadata": {
        "id": "a_KW73O2e3dw"
      },
      "outputs": [],
      "source": [
        "# Import findspark and initialize.\n",
        "import findspark\n",
        "findspark.init()"
      ]
    },
    {
      "cell_type": "code",
      "execution_count": 5,
      "metadata": {
        "id": "2XbWNf1Te5fM"
      },
      "outputs": [],
      "source": [
        "# Import packages\n",
        "from pyspark.sql import SparkSession\n",
        "import time\n",
        "\n",
        "# Create a SparkSession\n",
        "spark = SparkSession.builder.appName(\"SparkSQL\").getOrCreate()"
      ]
    },
    {
      "cell_type": "code",
      "execution_count": 6,
      "metadata": {
        "id": "wOJqxG_RPSwp"
      },
      "outputs": [],
      "source": [
        "# 1. Read in the AWS S3 bucket into a DataFrame.\n",
        "from pyspark import SparkFiles\n",
        "url = \"https://2u-data-curriculum-team.s3.amazonaws.com/dataviz-classroom/v1.2/22-big-data/home_sales_revised.csv\"\n",
        "\n"
      ]
    },
    {
      "cell_type": "code",
      "execution_count": 9,
      "metadata": {
        "id": "RoljcJ7WPpnm",
        "colab": {
          "base_uri": "https://localhost:8080/"
        },
        "outputId": "e6ed614d-d144-4cec-f6e3-d56e566b8a17"
      },
      "outputs": [
        {
          "output_type": "stream",
          "name": "stdout",
          "text": [
            "+--------------------+----------+----------+------+--------+---------+-----------+--------+------+----------+----+\n",
            "|                  id|      date|date_built| price|bedrooms|bathrooms|sqft_living|sqft_lot|floors|waterfront|view|\n",
            "+--------------------+----------+----------+------+--------+---------+-----------+--------+------+----------+----+\n",
            "|f8a53099-ba1c-47d...|2022-04-08|      2016|936923|       4|        3|       3167|   11733|     2|         1|  76|\n",
            "|7530a2d8-1ae3-451...|2021-06-13|      2013|379628|       2|        2|       2235|   14384|     1|         0|  23|\n",
            "|43de979c-0bf0-4c9...|2019-04-12|      2014|417866|       2|        2|       2127|   10575|     2|         0|   0|\n",
            "|b672c137-b88c-48b...|2019-10-16|      2016|239895|       2|        2|       1631|   11149|     2|         0|   0|\n",
            "|e0726d4d-d595-407...|2022-01-08|      2017|424418|       3|        2|       2249|   13878|     2|         0|   4|\n",
            "|5aa00529-0533-46b...|2019-01-30|      2017|218712|       2|        3|       1965|   14375|     2|         0|   7|\n",
            "|131492a1-72e2-4a8...|2020-02-08|      2017|419199|       2|        3|       2062|    8876|     2|         0|   6|\n",
            "|8d54a71b-c520-44e...|2019-07-21|      2010|323956|       2|        3|       1506|   11816|     1|         0|  25|\n",
            "|e81aacfe-17fe-46b...|2020-06-16|      2016|181925|       3|        3|       2137|   11709|     2|         0|  22|\n",
            "|2ed8d509-7372-46d...|2021-08-06|      2015|258710|       3|        3|       1918|    9666|     1|         0|  25|\n",
            "|f876d86f-3c9f-42b...|2019-02-27|      2011|167864|       3|        3|       2471|   13924|     2|         0|  15|\n",
            "|0a2bd445-8508-4d8...|2021-12-30|      2014|337527|       2|        3|       1926|   12556|     1|         0|  23|\n",
            "|941bad30-eb49-4a7...|2020-05-09|      2015|229896|       3|        3|       2197|    8641|     1|         0|   3|\n",
            "|dd61eb34-6589-4c0...|2021-07-25|      2016|210247|       3|        2|       1672|   11986|     2|         0|  28|\n",
            "|f1e4cef7-d151-439...|2019-02-01|      2011|398667|       2|        3|       2331|   11356|     1|         0|   7|\n",
            "|ea620c7b-c2f7-4c6...|2021-05-31|      2011|437958|       3|        3|       2356|   11052|     1|         0|  26|\n",
            "|f233cb41-6f33-4b0...|2021-07-18|      2016|437375|       4|        3|       1704|   11721|     2|         0|  34|\n",
            "|c797ca12-52cd-4b1...|2019-06-08|      2015|288650|       2|        3|       2100|   10419|     2|         0|   7|\n",
            "|0cfe57f3-28c2-472...|2019-10-04|      2015|308313|       3|        3|       1960|    9453|     2|         0|   2|\n",
            "|4566cd2a-ac6e-435...|2019-07-15|      2016|177541|       3|        3|       2130|   10517|     2|         0|  25|\n",
            "+--------------------+----------+----------+------+--------+---------+-----------+--------+------+----------+----+\n",
            "only showing top 20 rows\n",
            "\n"
          ]
        }
      ],
      "source": [
        "# 2. Create a temporary view of the DataFrame.\n",
        "spark.sparkContext.addFile(url)\n",
        "df = spark.read.csv(SparkFiles.get('home_sales_revised.csv'), sep=\",\", header=True)\n",
        "df.show()"
      ]
    },
    {
      "cell_type": "code",
      "execution_count": 55,
      "metadata": {
        "colab": {
          "base_uri": "https://localhost:8080/"
        },
        "id": "L6fkwOeOmqvq",
        "outputId": "f2505a21-f09b-4359-db9f-d102d6d092e2"
      },
      "outputs": [
        {
          "output_type": "stream",
          "name": "stdout",
          "text": [
            "====================================================================================================\n",
            "--------------------Show Filtered Data Frame--------------------\n",
            "+--------------------+----------+----------+------+--------+---------+-----------+--------+------+----------+----+----+-----+---+\n",
            "|                  id|      date|date_built| price|bedrooms|bathrooms|sqft_living|sqft_lot|floors|waterfront|view|year|month|day|\n",
            "+--------------------+----------+----------+------+--------+---------+-----------+--------+------+----------+----+----+-----+---+\n",
            "|f8a53099-ba1c-47d...|2022-04-08|      2016|936923|       4|        3|       3167|   11733|     2|         1|  76|2022|   04| 08|\n",
            "|f233cb41-6f33-4b0...|2021-07-18|      2016|437375|       4|        3|       1704|   11721|     2|         0|  34|2021|   07| 18|\n",
            "|2dc662fe-57b8-44b...|2020-04-20|      2016|417215|       4|        2|       2104|    8227|     2|         0|  48|2020|   04| 20|\n",
            "|d5f2062a-8950-417...|2019-09-02|      2016|305980|       4|        2|       1799|   13004|     1|         0|  26|2019|   09| 02|\n",
            "|f5e01433-f7b0-44e...|2021-03-10|      2010|335326|       4|        3|       1588|   14107|     1|         0|   8|2021|   03| 10|\n",
            "|a818abe9-fec6-48d...|2019-08-20|      2017|334284|       4|        2|       2378|   12034|     2|         0|  38|2019|   08| 20|\n",
            "|513c8016-c85b-4f6...|2019-04-13|      2016|138006|       4|        2|       1780|   14211|     2|         0|  12|2019|   04| 13|\n",
            "|7ac67498-b6f3-403...|2021-05-12|      2015|349318|       4|        3|       2417|   11304|     2|         0|  37|2021|   05| 12|\n",
            "|5a55a233-f534-407...|2020-07-21|      2011|288365|       4|        2|       1643|   14886|     2|         0|  29|2020|   07| 21|\n",
            "|ae3b0e50-4238-421...|2019-10-13|      2013|299056|       4|        3|       1613|   11634|     2|         0|  17|2019|   10| 13|\n",
            "|f99463dd-c04f-4c4...|2020-08-31|      2014|232702|       4|        2|       1717|    9138|     1|         0|  19|2020|   08| 31|\n",
            "|ffc3b5af-2180-445...|2020-07-20|      2012|301886|       4|        2|       2387|   10259|     2|         0|  41|2020|   07| 20|\n",
            "|ddf82ffe-df12-477...|2020-02-06|      2014|268775|       4|        3|       2413|    8383|     2|         0|   8|2020|   02| 06|\n",
            "|be0ccb95-415d-411...|2020-05-15|      2015|425154|       4|        3|       2120|   14229|     2|         0|   4|2020|   05| 15|\n",
            "|1ce21d55-2744-432...|2022-03-30|      2014|266254|       4|        2|       1661|   11223|     1|         0|  40|2022|   03| 30|\n",
            "|8e05076c-0c64-429...|2022-06-03|      2011|381358|       4|        3|       2190|   13460|     1|         0|  46|2022|   06| 03|\n",
            "|fd8213d0-3872-4de...|2020-04-23|      2017|858900|       4|        5|       4465|    9873|     1|         1|  53|2020|   04| 23|\n",
            "|e9031a86-1294-444...|2021-10-09|      2015|222322|       4|        3|       1928|   10510|     1|         0|  38|2021|   10| 09|\n",
            "|731d14ac-9dd1-4e5...|2021-03-27|      2011|323749|       4|        2|       2427|   14387|     2|         0|  21|2021|   03| 27|\n",
            "|e6d7c2a7-596e-4ec...|2019-03-15|      2015|131201|       4|        3|       1633|   14655|     1|         0|  22|2019|   03| 15|\n",
            "+--------------------+----------+----------+------+--------+---------+-----------+--------+------+----------+----+----+-----+---+\n",
            "only showing top 20 rows\n",
            "\n",
            "====================================================================================================\n",
            "-------------Show SQL View for AVG Price for 4 Bedrooms in Each Year-------------\n",
            "+----+-------------+\n",
            "|year|average_price|\n",
            "+----+-------------+\n",
            "|2019|300263.7     |\n",
            "|2020|298353.78    |\n",
            "|2021|301819.44    |\n",
            "|2022|296363.88    |\n",
            "+----+-------------+\n",
            "\n",
            "--- 1.1011226177215576 seconds ---\n"
          ]
        }
      ],
      "source": [
        "from typing import ValuesView\n",
        "from pyspark.sql.functions import mean as _mean\n",
        "from pyspark.sql.functions import split\n",
        "\n",
        "# 3. What is the average price for a four bedroom house sold per year, rounded to two decimal places?\n",
        "\n",
        "#split date column to have year, month and day in separate columns\n",
        "df = df.withColumn('year', split(df['date'], '-').getItem(0))\n",
        "df = df.withColumn('month', split(df['date'], '-').getItem(1))\n",
        "df = df.withColumn('day', split(df['date'], '-').getItem(2))\n",
        "\n",
        "#Filter dataframe by 4 bedrooms\n",
        "filter_4bed_df = df.filter(df.bedrooms == 4)\n",
        "print('='*100)\n",
        "print('-'*20+'Show Filtered Data Frame'+'-'*20)\n",
        "filter_4bed_df.show()\n",
        "print('='*100)\n",
        "\n",
        "#Create a view based on filtered database\n",
        "filter_4bed_df.createOrReplaceTempView('4bedrooms')\n",
        "\n",
        "#Initiate start time of execution\n",
        "start_time = time.time()\n",
        "\n",
        "#The view with out dataframe and run SQL that will average the price of 4 bedrooms by year\n",
        "print('-'*13+'Show SQL View for AVG Price for 4 Bedrooms in Each Year'+'-'*13)\n",
        "bedrooms4_avg_yr = spark.sql(\"\"\"select year, ROUND(avg(price),2) AS average_price from 4bedrooms GROUP BY year ORDER BY year\"\"\").show(truncate=False)\n",
        "\n",
        "#Show timing of the execution\n",
        "print(\"--- %s seconds ---\" % (time.time() - start_time))"
      ]
    },
    {
      "cell_type": "code",
      "execution_count": 73,
      "metadata": {
        "colab": {
          "base_uri": "https://localhost:8080/"
        },
        "id": "l8p_tUS8h8it",
        "outputId": "5435733c-db9a-41fe-8743-27a6c57c78a4"
      },
      "outputs": [
        {
          "output_type": "stream",
          "name": "stdout",
          "text": [
            "====================================================================================================\n",
            "--------------------Show Filtered Data Frame--------------------\n",
            "+--------------------+----------+----------+------+--------+---------+-----------+--------+------+----------+----+----+-----+---+\n",
            "|                  id|      date|date_built| price|bedrooms|bathrooms|sqft_living|sqft_lot|floors|waterfront|view|year|month|day|\n",
            "+--------------------+----------+----------+------+--------+---------+-----------+--------+------+----------+----+----+-----+---+\n",
            "|e81aacfe-17fe-46b...|2020-06-16|      2016|181925|       3|        3|       2137|   11709|     2|         0|  22|2020|   06| 16|\n",
            "|2ed8d509-7372-46d...|2021-08-06|      2015|258710|       3|        3|       1918|    9666|     1|         0|  25|2021|   08| 06|\n",
            "|f876d86f-3c9f-42b...|2019-02-27|      2011|167864|       3|        3|       2471|   13924|     2|         0|  15|2019|   02| 27|\n",
            "|941bad30-eb49-4a7...|2020-05-09|      2015|229896|       3|        3|       2197|    8641|     1|         0|   3|2020|   05| 09|\n",
            "|ea620c7b-c2f7-4c6...|2021-05-31|      2011|437958|       3|        3|       2356|   11052|     1|         0|  26|2021|   05| 31|\n",
            "|0cfe57f3-28c2-472...|2019-10-04|      2015|308313|       3|        3|       1960|    9453|     2|         0|   2|2019|   10| 04|\n",
            "|4566cd2a-ac6e-435...|2019-07-15|      2016|177541|       3|        3|       2130|   10517|     2|         0|  25|2019|   07| 15|\n",
            "|50873b8b-92b8-44c...|2022-06-05|      2017|268554|       3|        3|       1962|   13955|     2|         0|   6|2022|   06| 05|\n",
            "|e0fc52aa-c349-4ba...|2019-04-17|      2016|202790|       3|        3|       2025|   10987|     2|         0|  19|2019|   04| 17|\n",
            "|e252c4ce-b5b2-4ef...|2019-10-28|      2014|168463|       3|        3|       2271|    8317|     2|         0|   2|2019|   10| 28|\n",
            "|a16c1fd3-50c3-4e7...|2020-02-12|      2014|372151|       3|        3|       1787|   12012|     2|         0|  16|2020|   02| 12|\n",
            "|0ffe23e3-9d0f-442...|2021-11-18|      2017|429183|       3|        3|       2162|   12567|     1|         0|  49|2021|   11| 18|\n",
            "|bb2ff269-f08f-4e8...|2022-03-06|      2010|429030|       3|        3|       2049|   11882|     2|         0|  23|2022|   03| 06|\n",
            "|77a2d239-67a3-43b...|2021-06-18|      2016|396508|       3|        3|       1890|   10081|     2|         0|  25|2021|   06| 18|\n",
            "|34c31a34-220d-469...|2019-02-06|      2015|409011|       3|        3|       2356|   10507|     1|         0|   1|2019|   02| 06|\n",
            "|7acb88a1-8a4f-4a7...|2019-03-31|      2016|351363|       3|        3|       1771|   13037|     2|         0|  13|2019|   03| 31|\n",
            "|d03391c1-cfd4-4d1...|2022-04-01|      2011|158791|       3|        3|       2371|   12585|     2|         0|  23|2022|   04| 01|\n",
            "|0c686512-f14e-450...|2022-06-12|      2013|391189|       3|        3|       1552|    9659|     2|         0|  31|2022|   06| 12|\n",
            "|24ba1e84-88a6-4e3...|2019-09-17|      2017|207869|       3|        3|       1768|   11426|     1|         0|  12|2019|   09| 17|\n",
            "|00ce46df-952c-4ce...|2020-05-11|      2016|430471|       3|        3|       1935|   13334|     2|         0|  10|2020|   05| 11|\n",
            "+--------------------+----------+----------+------+--------+---------+-----------+--------+------+----------+----+----+-----+---+\n",
            "only showing top 20 rows\n",
            "\n",
            "====================================================================================================\n",
            "-------------Show SQL View for AVG Price for 3 Bed 3 Baths in Each Year-------------\n",
            "+----------+-------------+\n",
            "|date_built|average_price|\n",
            "+----------+-------------+\n",
            "|2010      |292859.62    |\n",
            "|2011      |291117.47    |\n",
            "|2012      |293683.19    |\n",
            "|2013      |295962.27    |\n",
            "|2014      |290852.27    |\n",
            "|2015      |288770.3     |\n",
            "|2016      |290555.07    |\n",
            "|2017      |292676.79    |\n",
            "+----------+-------------+\n",
            "\n",
            "--- 0.9351632595062256 seconds ---\n"
          ]
        }
      ],
      "source": [
        "# 4. What is the average price of a home for each year the home was built,\n",
        "# that have 3 bedrooms and 3 bathrooms, rounded to two decimal places?\n",
        "\n",
        "#Filter dataframe by 3 bedrooms\n",
        "filter_3bed_3bath_df = df.filter(df.bedrooms == 3).filter(df.bathrooms ==3)\n",
        "print('='*100)\n",
        "print('-'*20+'Show Filtered Data Frame'+'-'*20)\n",
        "filter_3bed_3bath_df.show()\n",
        "print('='*100)\n",
        "\n",
        "#Create a view based on filtered database\n",
        "filter_3bed_3bath_df.createOrReplaceTempView('3beds3baths')\n",
        "\n",
        "#Initiate start time of execution\n",
        "start_time = time.time()\n",
        "\n",
        "#The view with out dataframe and run SQL that will average the price of 3 bed 3 baths by year\n",
        "print('-'*13+'Show SQL View for AVG Price for 3 Bed 3 Baths in Each Year'+'-'*13)\n",
        "bed_3_bath_avg_yr = spark.sql(\"\"\"select date_built, ROUND(avg(price),2) AS average_price from 3beds3baths GROUP BY date_built ORDER BY date_built\"\"\").show(truncate=False)\n",
        "\n",
        "#Show timing of the execution\n",
        "print(\"--- %s seconds ---\" % (time.time() - start_time))"
      ]
    },
    {
      "cell_type": "code",
      "execution_count": 72,
      "metadata": {
        "colab": {
          "base_uri": "https://localhost:8080/"
        },
        "id": "Y-Eytz64liDU",
        "outputId": "62748727-0bd2-446b-cd49-d08c4873f185"
      },
      "outputs": [
        {
          "output_type": "stream",
          "name": "stdout",
          "text": [
            "====================================================================================================\n",
            "--------------------Show Filtered Data Frame--------------------\n",
            "+--------------------+----------+----------+------+--------+---------+-----------+--------+------+----------+----+----+-----+---+\n",
            "|                  id|      date|date_built| price|bedrooms|bathrooms|sqft_living|sqft_lot|floors|waterfront|view|year|month|day|\n",
            "+--------------------+----------+----------+------+--------+---------+-----------+--------+------+----------+----+----+-----+---+\n",
            "|e81aacfe-17fe-46b...|2020-06-16|      2016|181925|       3|        3|       2137|   11709|     2|         0|  22|2020|   06| 16|\n",
            "|f876d86f-3c9f-42b...|2019-02-27|      2011|167864|       3|        3|       2471|   13924|     2|         0|  15|2019|   02| 27|\n",
            "|0cfe57f3-28c2-472...|2019-10-04|      2015|308313|       3|        3|       1960|    9453|     2|         0|   2|2019|   10| 04|\n",
            "|4566cd2a-ac6e-435...|2019-07-15|      2016|177541|       3|        3|       2130|   10517|     2|         0|  25|2019|   07| 15|\n",
            "|50873b8b-92b8-44c...|2022-06-05|      2017|268554|       3|        3|       1962|   13955|     2|         0|   6|2022|   06| 05|\n",
            "|e0fc52aa-c349-4ba...|2019-04-17|      2016|202790|       3|        3|       2025|   10987|     2|         0|  19|2019|   04| 17|\n",
            "|e252c4ce-b5b2-4ef...|2019-10-28|      2014|168463|       3|        3|       2271|    8317|     2|         0|   2|2019|   10| 28|\n",
            "|a16c1fd3-50c3-4e7...|2020-02-12|      2014|372151|       3|        3|       1787|   12012|     2|         0|  16|2020|   02| 12|\n",
            "|bb2ff269-f08f-4e8...|2022-03-06|      2010|429030|       3|        3|       2049|   11882|     2|         0|  23|2022|   03| 06|\n",
            "|77a2d239-67a3-43b...|2021-06-18|      2016|396508|       3|        3|       1890|   10081|     2|         0|  25|2021|   06| 18|\n",
            "|7acb88a1-8a4f-4a7...|2019-03-31|      2016|351363|       3|        3|       1771|   13037|     2|         0|  13|2019|   03| 31|\n",
            "|d03391c1-cfd4-4d1...|2022-04-01|      2011|158791|       3|        3|       2371|   12585|     2|         0|  23|2022|   04| 01|\n",
            "|0c686512-f14e-450...|2022-06-12|      2013|391189|       3|        3|       1552|    9659|     2|         0|  31|2022|   06| 12|\n",
            "|00ce46df-952c-4ce...|2020-05-11|      2016|430471|       3|        3|       1935|   13334|     2|         0|  10|2020|   05| 11|\n",
            "|2792bb6d-ea02-4e2...|2021-02-09|      2010|360444|       3|        3|       2383|   12503|     2|         0|  29|2021|   02| 09|\n",
            "|b508414d-40c0-407...|2019-07-12|      2012|195216|       3|        3|       1607|   12666|     2|         0|  12|2019|   07| 12|\n",
            "|1fc8277d-ac34-424...|2022-04-26|      2017|254527|       3|        3|       2226|   14060|     2|         0|  42|2022|   04| 26|\n",
            "|c2be38fb-814a-403...|2020-03-20|      2015|352237|       3|        3|       2485|   10954|     2|         0|   6|2020|   03| 20|\n",
            "|510347ba-9725-45f...|2021-11-08|      2015|207789|       3|        3|       1682|    8286|     2|         0|   1|2021|   11| 08|\n",
            "|a4a1a614-ad3c-4f8...|2021-01-11|      2015|425489|       3|        3|       2051|    9161|     2|         0|  26|2021|   01| 11|\n",
            "+--------------------+----------+----------+------+--------+---------+-----------+--------+------+----------+----+----+-----+---+\n",
            "only showing top 20 rows\n",
            "\n",
            "====================================================================================================\n",
            "-------------Show SQL View for AVG Price for 3 Bed, 3 Baths, 2 Floors & 2,000 square feet in Each Year-------------\n",
            "+----------+-------------+\n",
            "|date_built|average_price|\n",
            "+----------+-------------+\n",
            "|2010      |280447.23    |\n",
            "|2011      |281413.45    |\n",
            "|2012      |295858.68    |\n",
            "|2013      |295142.13    |\n",
            "|2014      |294195.13    |\n",
            "|2015      |291788.36    |\n",
            "|2016      |287812.6     |\n",
            "|2017      |282026.59    |\n",
            "+----------+-------------+\n",
            "\n",
            "--- 1.3434960842132568 seconds ---\n"
          ]
        }
      ],
      "source": [
        "# 5. What is the average price of a home for each year the home was built,\n",
        "# that have 3 bedrooms, 3 bathrooms, with two floors,\n",
        "# and are greater than or equal to 2,000 square feet, rounded to two decimal places?\n",
        "\n",
        "#Filter dataframe by 3 bedrooms\n",
        "filter_3bed_3bath_bighome_df = df.filter(df.bedrooms == 3).filter(df.bathrooms ==3).filter(df.floors == 2).filter(df.sqft_lot >= 2000)\n",
        "print('='*100)\n",
        "print('-'*20+'Show Filtered Data Frame'+'-'*20)\n",
        "filter_3bed_3bath_bighome_df.show()\n",
        "print('='*100)\n",
        "\n",
        "#Create a view based on filtered database\n",
        "filter_3bed_3bath_bighome_df.createOrReplaceTempView('3beds3bathsbighouse')\n",
        "\n",
        "#Initiate start time of execution\n",
        "start_time = time.time()\n",
        "\n",
        "#The view with out dataframe and run SQL that will average the price of 3 bed 3 baths 2 floors and 2000sqft by year\n",
        "print('-'*13+'Show SQL View for AVG Price for 3 Bed, 3 Baths, 2 Floors & 2,000 square feet in Each Year'+'-'*13)\n",
        "bed_3_bath_big_house_avg_yr = spark.sql(\"\"\"select date_built, ROUND(avg(price),2) AS average_price from 3beds3bathsbighouse GROUP BY date_built ORDER BY date_built\"\"\").show(truncate=False)\n",
        "\n",
        "#Show timing of the execution\n",
        "print(\"--- %s seconds ---\" % (time.time() - start_time))"
      ]
    },
    {
      "cell_type": "code",
      "execution_count": 109,
      "metadata": {
        "colab": {
          "base_uri": "https://localhost:8080/"
        },
        "id": "GUrfgOX1pCRd",
        "outputId": "1741b627-21ce-4b3c-ed2a-92094f0d66d4"
      },
      "outputs": [
        {
          "output_type": "stream",
          "name": "stdout",
          "text": [
            "-------------Show SQL View for AVG Price based on View Ratings-------------\n",
            "+----+-------------+\n",
            "|view|average_price|\n",
            "+----+-------------+\n",
            "|0   |403848.51    |\n",
            "|1   |401044.25    |\n",
            "|10  |401868.43    |\n",
            "|100 |1026669.5    |\n",
            "|11  |399548.12    |\n",
            "|12  |401501.32    |\n",
            "|13  |398917.98    |\n",
            "|14  |398570.03    |\n",
            "|15  |404673.3     |\n",
            "|16  |399586.53    |\n",
            "|17  |398474.49    |\n",
            "|18  |399332.91    |\n",
            "|19  |398953.17    |\n",
            "|2   |397389.25    |\n",
            "|20  |399522.81    |\n",
            "|21  |399758.88    |\n",
            "|22  |402022.68    |\n",
            "|23  |403411.92    |\n",
            "|24  |400284.92    |\n",
            "|25  |401298.69    |\n",
            "+----+-------------+\n",
            "only showing top 20 rows\n",
            "\n",
            "--- 0.4588649272918701 seconds ---\n"
          ]
        }
      ],
      "source": [
        "# 6. What is the average price of a home per \"view\" rating, rounded to two decimal places,\n",
        "# having an average home price greater than or equal to $350,000? Order by descending view rating.\n",
        "# Although this is a small dataset, determine the run time for this query.\n",
        "view_df = df.filter(df.price >= 350000).filter(df.view != 'NA')\n",
        "\n",
        "#Create a view based on filtered database\n",
        "view_df.createOrReplaceTempView('views')\n",
        "\n",
        "#Initiate start time of execution\n",
        "start_time = time.time()\n",
        "\n",
        "print('-'*13+'Show SQL View for AVG Price based on View Ratings'+'-'*13)\n",
        "avg_view = spark.sql(\"\"\"select view, ROUND(avg(price),2) AS average_price from views GROUP BY view ORDER BY view\"\"\").show(truncate=False)\n",
        "\n",
        "print(\"--- %s seconds ---\" % (time.time() - start_time))"
      ]
    },
    {
      "cell_type": "code",
      "execution_count": 103,
      "metadata": {
        "colab": {
          "base_uri": "https://localhost:8080/"
        },
        "id": "KAhk3ZD2tFy8",
        "outputId": "318ec434-9d9b-4e3e-d0b3-e9273a5bff83"
      },
      "outputs": [
        {
          "output_type": "execute_result",
          "data": {
            "text/plain": [
              "DataFrame[]"
            ]
          },
          "metadata": {},
          "execution_count": 103
        }
      ],
      "source": [
        "# 7. Cache the the temporary table home_sales.\n",
        "#drop table if it already exists\n",
        "spark.sql(\"DROP TABLE IF EXISTS home_sales\")\n",
        "\n",
        "#Create view\n",
        "df.createOrReplaceTempView('home_sales')\n",
        "\n",
        "#Check if table exists\n",
        "spark.catalog.listTables()\n",
        "\n",
        "#Cache the temporpary table\n",
        "spark.sql('cache table home_sales')"
      ]
    },
    {
      "cell_type": "code",
      "execution_count": 104,
      "metadata": {
        "colab": {
          "base_uri": "https://localhost:8080/"
        },
        "id": "4opVhbvxtL-i",
        "outputId": "8dd8c74f-d97d-463c-a2c0-2dedee0a4255"
      },
      "outputs": [
        {
          "output_type": "execute_result",
          "data": {
            "text/plain": [
              "True"
            ]
          },
          "metadata": {},
          "execution_count": 104
        }
      ],
      "source": [
        "# 8. Check if the table is cached.\n",
        "spark.catalog.isCached('home_sales')"
      ]
    },
    {
      "cell_type": "code",
      "execution_count": 108,
      "metadata": {
        "colab": {
          "base_uri": "https://localhost:8080/"
        },
        "id": "5GnL46lwTSEk",
        "outputId": "ea3506cc-cfd9-4186-c4ce-98b1a6db1ff0"
      },
      "outputs": [
        {
          "output_type": "stream",
          "name": "stdout",
          "text": [
            "-------------Show SQL View for AVG Price based on View Ratings-------------\n",
            "+----+-------------+\n",
            "|view|average_price|\n",
            "+----+-------------+\n",
            "|0   |285069.21    |\n",
            "|1   |288248.11    |\n",
            "|10  |289693.49    |\n",
            "|100 |1026669.5    |\n",
            "|11  |280356.07    |\n",
            "|12  |286575.22    |\n",
            "|13  |285849.95    |\n",
            "|14  |282519.32    |\n",
            "|15  |284907.04    |\n",
            "|16  |291990.83    |\n",
            "|17  |286601.22    |\n",
            "|18  |287532.36    |\n",
            "|19  |280347.62    |\n",
            "|2   |287710.06    |\n",
            "|20  |284820.43    |\n",
            "|21  |283451.36    |\n",
            "|22  |284908.42    |\n",
            "|23  |286977.37    |\n",
            "|24  |281878.86    |\n",
            "|25  |288583.21    |\n",
            "+----+-------------+\n",
            "only showing top 20 rows\n",
            "\n",
            "--- 0.4946770668029785 seconds ---\n"
          ]
        }
      ],
      "source": [
        "# 9. Using the cached data, run the last query above, that calculates\n",
        "# the average price of a home per \"view\" rating, rounded to two decimal places,\n",
        "# having an average home price greater than or equal to $350,000.\n",
        "# Determine the runtime and compare it to the uncached runtime.\n",
        "\n",
        "#Initiate start time of execution\n",
        "start_time = time.time()\n",
        "\n",
        "#The view with out dataframe and run SQL that will average the price by view\n",
        "print('-'*13+'Show SQL View for AVG Price based on View Ratings'+'-'*13)\n",
        "avg_view_cache = spark.sql(\"\"\"select view, ROUND(avg(price),2) AS average_price from home_sales GROUP BY view ORDER BY view\"\"\").show(truncate=False)\n",
        "\n",
        "\n",
        "print(\"--- %s seconds ---\" % (time.time() - start_time))\n"
      ]
    },
    {
      "cell_type": "code",
      "execution_count": 110,
      "metadata": {
        "id": "Qm12WN9isHBR"
      },
      "outputs": [],
      "source": [
        "# 10. Partition by the \"date_built\" field on the formatted parquet home sales data\n",
        "df.write.partitionBy(\"date_built\").mode(\"overwrite\").parquet(\"delayed_partitioned\")"
      ]
    },
    {
      "cell_type": "code",
      "execution_count": 111,
      "metadata": {
        "id": "AZ7BgY61sRqY"
      },
      "outputs": [],
      "source": [
        "# 11. Read the formatted parquet data.\n",
        "p_df_p=spark.read.parquet('delayed_partitioned')"
      ]
    },
    {
      "cell_type": "code",
      "execution_count": 114,
      "metadata": {
        "id": "J6MJkHfvVcvh",
        "colab": {
          "base_uri": "https://localhost:8080/"
        },
        "outputId": "d5041f00-17bd-44db-fbe2-28c9de066ab9"
      },
      "outputs": [
        {
          "output_type": "execute_result",
          "data": {
            "text/plain": [
              "[Table(name='3beds3baths', catalog=None, namespace=[], description=None, tableType='TEMPORARY', isTemporary=True),\n",
              " Table(name='3beds3bathsbighouse', catalog=None, namespace=[], description=None, tableType='TEMPORARY', isTemporary=True),\n",
              " Table(name='4bedrooms', catalog=None, namespace=[], description=None, tableType='TEMPORARY', isTemporary=True),\n",
              " Table(name='bedrooms', catalog=None, namespace=[], description=None, tableType='TEMPORARY', isTemporary=True),\n",
              " Table(name='home_sales', catalog=None, namespace=[], description=None, tableType='TEMPORARY', isTemporary=True),\n",
              " Table(name='home_sales_revised', catalog=None, namespace=[], description=None, tableType='TEMPORARY', isTemporary=True),\n",
              " Table(name='parquet_data', catalog=None, namespace=[], description=None, tableType='TEMPORARY', isTemporary=True),\n",
              " Table(name='views', catalog=None, namespace=[], description=None, tableType='TEMPORARY', isTemporary=True)]"
            ]
          },
          "metadata": {},
          "execution_count": 114
        }
      ],
      "source": [
        "# 12. Create a temporary table for the parquet data.\n",
        "#drop table if it already exists\n",
        "spark.sql(\"DROP TABLE IF EXISTS parquet_data\")\n",
        "\n",
        "#Create view\n",
        "p_df_p.createOrReplaceTempView('parquet_data')\n",
        "\n",
        "#Check if table exists\n",
        "spark.catalog.listTables()"
      ]
    },
    {
      "cell_type": "code",
      "execution_count": 115,
      "metadata": {
        "colab": {
          "base_uri": "https://localhost:8080/"
        },
        "id": "G_Vhb52rU1Sn",
        "outputId": "a349bdd2-4c10-4d7e-b4ea-0a8953ef322d"
      },
      "outputs": [
        {
          "output_type": "stream",
          "name": "stdout",
          "text": [
            "-------------Show SQL View for AVG Price based on View Ratings Partition-------------\n",
            "+----+-------------+\n",
            "|view|average_price|\n",
            "+----+-------------+\n",
            "|0   |285069.21    |\n",
            "|1   |288248.11    |\n",
            "|10  |289693.49    |\n",
            "|100 |1026669.5    |\n",
            "|11  |280356.07    |\n",
            "|12  |286575.22    |\n",
            "|13  |285849.95    |\n",
            "|14  |282519.32    |\n",
            "|15  |284907.04    |\n",
            "|16  |291990.83    |\n",
            "|17  |286601.22    |\n",
            "|18  |287532.36    |\n",
            "|19  |280347.62    |\n",
            "|2   |287710.06    |\n",
            "|20  |284820.43    |\n",
            "|21  |283451.36    |\n",
            "|22  |284908.42    |\n",
            "|23  |286977.37    |\n",
            "|24  |281878.86    |\n",
            "|25  |288583.21    |\n",
            "+----+-------------+\n",
            "only showing top 20 rows\n",
            "\n",
            "--- 1.18998384475708 seconds ---\n"
          ]
        }
      ],
      "source": [
        "# 13. Using the parquet DataFrame, run the last query above, that calculates\n",
        "# the average price of a home per \"view\" rating, rounded to two decimal places,\n",
        "# having an average home price greater than or equal to $350,000.\n",
        "# Determine the runtime and compare it to the cached runtime.\n",
        "\n",
        "#Initiate start time of execution\n",
        "start_time = time.time()\n",
        "\n",
        "#The view with out dataframe and run SQL that will average the price by view\n",
        "print('-'*13+'Show SQL View for AVG Price based on View Ratings Partition'+'-'*13)\n",
        "avg_view_parquet = spark.sql(\"\"\"select view, ROUND(avg(price),2) AS average_price from parquet_data GROUP BY view ORDER BY view\"\"\").show(truncate=False)\n",
        "\n",
        "\n",
        "print(\"--- %s seconds ---\" % (time.time() - start_time))\n"
      ]
    },
    {
      "cell_type": "code",
      "execution_count": 116,
      "metadata": {
        "colab": {
          "base_uri": "https://localhost:8080/"
        },
        "id": "hjjYzQGjtbq8",
        "outputId": "55b81897-ebcf-4837-87a4-7c3a96a88e27"
      },
      "outputs": [
        {
          "output_type": "execute_result",
          "data": {
            "text/plain": [
              "DataFrame[]"
            ]
          },
          "metadata": {},
          "execution_count": 116
        }
      ],
      "source": [
        "# 14. Uncache the home_sales temporary table.\n",
        "spark.sql(\"uncache table home_sales\")"
      ]
    },
    {
      "cell_type": "code",
      "execution_count": 117,
      "metadata": {
        "colab": {
          "base_uri": "https://localhost:8080/"
        },
        "id": "Sy9NBvO7tlmm",
        "outputId": "4c66cdfa-1258-4c14-dcab-7c4b939c002a"
      },
      "outputs": [
        {
          "output_type": "execute_result",
          "data": {
            "text/plain": [
              "False"
            ]
          },
          "metadata": {},
          "execution_count": 117
        }
      ],
      "source": [
        "# 15. Check if the home_sales is no longer cached\n",
        "\n",
        "spark.catalog.isCached(\"home_sales\")"
      ]
    },
    {
      "cell_type": "code",
      "execution_count": null,
      "metadata": {
        "id": "OguABUq4juKi"
      },
      "outputs": [],
      "source": []
    }
  ],
  "metadata": {
    "colab": {
      "provenance": [],
      "include_colab_link": true
    },
    "kernelspec": {
      "display_name": "Python 3 (ipykernel)",
      "language": "python",
      "name": "python3"
    },
    "language_info": {
      "codemirror_mode": {
        "name": "ipython",
        "version": 3
      },
      "file_extension": ".py",
      "mimetype": "text/x-python",
      "name": "python",
      "nbconvert_exporter": "python",
      "pygments_lexer": "ipython3",
      "version": "3.10.4"
    },
    "nteract": {
      "version": "0.28.0"
    }
  },
  "nbformat": 4,
  "nbformat_minor": 0
}
